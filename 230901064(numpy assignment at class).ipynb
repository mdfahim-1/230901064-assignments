{
 "cells": [
  {
   "cell_type": "code",
   "execution_count": 3,
   "id": "c3e30aa0-4a20-4b4a-bb26-e58a6ca6c7e9",
   "metadata": {},
   "outputs": [
    {
     "name": "stdout",
     "output_type": "stream",
     "text": [
      "[[0.02314824 0.46317132 0.50240798]\n",
      " [0.91653805 0.46905903 0.68499066]\n",
      " [0.39938607 0.23277154 0.48504437]\n",
      " [0.43716956 0.4192904  0.86318649]\n",
      " [0.89266583 0.58130999 0.55583461]]\n"
     ]
    }
   ],
   "source": [
    "import numpy as np\n",
    "Random=np.random.random((5,3))\n",
    "print(Random)"
   ]
  },
  {
   "cell_type": "code",
   "execution_count": 4,
   "id": "e508b352-593f-4cd3-a096-49c74967d8c6",
   "metadata": {},
   "outputs": [
    {
     "name": "stdout",
     "output_type": "stream",
     "text": [
      "[[0. 0. 0. 0. 0.]\n",
      " [0. 0. 0. 0. 0.]\n",
      " [0. 0. 0. 0. 0.]]\n"
     ]
    }
   ],
   "source": [
    "zeros=np.zeros((3,5))\n",
    "print(zeros)"
   ]
  },
  {
   "cell_type": "code",
   "execution_count": 6,
   "id": "bf81ce8d-fed3-49bb-9c86-ac0e6a7d0c6e",
   "metadata": {},
   "outputs": [
    {
     "name": "stdout",
     "output_type": "stream",
     "text": [
      "[ 5  7  9 11 13 15 17 19 21 23 25 27 29]\n"
     ]
    }
   ],
   "source": [
    "range=np.arange(5,31,2)\n",
    "print(range)"
   ]
  },
  {
   "cell_type": "code",
   "execution_count": 11,
   "id": "523ff8d1-264d-4186-bf09-50b0515b8f53",
   "metadata": {},
   "outputs": [
    {
     "name": "stdout",
     "output_type": "stream",
     "text": [
      "[[1 2 3]\n",
      " [2 3 4]\n",
      " [3 4 5]]\n",
      "\n",
      "Dimension of this array :  2\n",
      "\n",
      "Datatype of this array :  int64\n",
      "\n",
      "Shape of this array :  (3, 3)\n",
      "\n",
      "Flatten array :  [1 2 3 2 3 4 3 4 5]\n"
     ]
    }
   ],
   "source": [
    "import numpy as np\n",
    "arr=np.array([[1,2,3],[2,3,4],[3,4,5]])\n",
    "print(arr)\n",
    "print(\"\\nDimension of this array : \",arr.ndim)\n",
    "print(\"\\nDatatype of this array : \",arr.dtype)\n",
    "print(\"\\nShape of this array : \",arr.shape)\n",
    "print(\"\\nFlatten array : \",arr.flatten())"
   ]
  },
  {
   "cell_type": "code",
   "execution_count": null,
   "id": "283eac29-f962-4a8c-a2e1-cbbcbf25c03b",
   "metadata": {},
   "outputs": [],
   "source": []
  }
 ],
 "metadata": {
  "kernelspec": {
   "display_name": "Python 3 (ipykernel)",
   "language": "python",
   "name": "python3"
  },
  "language_info": {
   "codemirror_mode": {
    "name": "ipython",
    "version": 3
   },
   "file_extension": ".py",
   "mimetype": "text/x-python",
   "name": "python",
   "nbconvert_exporter": "python",
   "pygments_lexer": "ipython3",
   "version": "3.12.7"
  }
 },
 "nbformat": 4,
 "nbformat_minor": 5
}
