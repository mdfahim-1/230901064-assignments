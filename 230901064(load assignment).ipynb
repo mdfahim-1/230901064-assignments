{
 "cells": [
  {
   "cell_type": "code",
   "execution_count": 1,
   "id": "fc0ab71f-d9d7-41e0-aac2-e2514ae1c08b",
   "metadata": {},
   "outputs": [
    {
     "name": "stdout",
     "output_type": "stream",
     "text": [
      "    Emp ID Name Prefix First Name Middle Initial Last Name Gender  \\\n",
      "0   677509        Drs.       Lois              H    Walker      F   \n",
      "1   940761         Ms.     Brenda              S  Robinson      F   \n",
      "2   428945         Dr.        Joe              W  Robinson      M   \n",
      "3   408351        Drs.      Diane              I     Evans      F   \n",
      "4   193819         Mr.   Benjamin              R   Russell      M   \n",
      "..     ...         ...        ...            ...       ...    ...   \n",
      "95  639892         Mr.       Jose              K      Hill      M   \n",
      "96  704709         Dr.     Harold              Z    Nelson      M   \n",
      "97  461593         Ms.     Nicole              O      Ward      F   \n",
      "98  392491        Mrs.    Theresa              R    Murphy      F   \n",
      "99  495141        Drs.      Tammy              B     Young      F   \n",
      "\n",
      "                          E Mail     Father's Name       Mother's Name  \\\n",
      "0        lois.walker@hotmail.com     Donald Walker        Helen Walker   \n",
      "1      brenda.robinson@gmail.com  Raymond Robinson       Judy Robinson   \n",
      "2         joe.robinson@gmail.com    Scott Robinson  Stephanie Robinson   \n",
      "3          diane.evans@yahoo.com       Jason Evans      Michelle Evans   \n",
      "4   benjamin.russell@charter.net   Gregory Russell   Elizabeth Russell   \n",
      "..                           ...               ...                 ...   \n",
      "95         jose.hill@hotmail.com       Carlos Hill           Anna Hill   \n",
      "96       harold.nelson@gmail.com    Richard Nelson       Pamela Nelson   \n",
      "97         nicole.ward@yahoo.com        Ralph Ward          Julia Ward   \n",
      "98      theresa.murphy@gmail.com     George Murphy   Jacqueline Murphy   \n",
      "99       tammy.young@comcast.net      Andrew Young        Brenda Young   \n",
      "\n",
      "   Mother's Maiden Name  Salary  \n",
      "0                 Lewis  168251  \n",
      "1                 Perry   51063  \n",
      "2                Taylor   50155  \n",
      "3                 Allen  180294  \n",
      "4                Nelson  117642  \n",
      "..                  ...     ...  \n",
      "95                Hayes  129774  \n",
      "96                Smith  156194  \n",
      "97                  Lee   95673  \n",
      "98             Peterson   51015  \n",
      "99             Robinson   93650  \n",
      "\n",
      "[100 rows x 11 columns]\n"
     ]
    }
   ],
   "source": [
    "import pandas as pd\n",
    "a=pd.read_csv(\"employees details.csv\")\n",
    "print(a)"
   ]
  },
  {
   "cell_type": "code",
   "execution_count": 4,
   "id": "f6ff3014-cd6d-431c-8748-e64e9ce27c84",
   "metadata": {},
   "outputs": [
    {
     "name": "stdout",
     "output_type": "stream",
     "text": [
      "Columns : Index(['Emp ID', 'Name Prefix', 'First Name', 'Middle Initial', 'Last Name',\n",
      "       'Gender', 'E Mail', 'Father's Name', 'Mother's Name',\n",
      "       'Mother's Maiden Name', 'Salary'],\n",
      "      dtype='object')\n"
     ]
    }
   ],
   "source": [
    "import pandas as pd\n",
    "d=pd.read_csv(\"employees details.csv\")\n",
    "df=pd.DataFrame(d)\n",
    "print(\"Columns :\",df.columns)"
   ]
  },
  {
   "cell_type": "code",
   "execution_count": 6,
   "id": "53aa777e-3679-4c1b-b319-e0f211cfef53",
   "metadata": {},
   "outputs": [
    {
     "name": "stdout",
     "output_type": "stream",
     "text": [
      "Shape :  (100, 11)\n"
     ]
    }
   ],
   "source": [
    "print(\"Shape : \",df.shape)"
   ]
  },
  {
   "cell_type": "code",
   "execution_count": 22,
   "id": "60558c63-b0d5-464a-a815-b83c02f4d899",
   "metadata": {},
   "outputs": [
    {
     "name": "stdout",
     "output_type": "stream",
     "text": [
      "\n",
      " E Mail : \n",
      "\n",
      " 0          lois.walker@hotmail.com\n",
      "1        brenda.robinson@gmail.com\n",
      "2           joe.robinson@gmail.com\n",
      "3            diane.evans@yahoo.com\n",
      "4     benjamin.russell@charter.net\n",
      "                  ...             \n",
      "95           jose.hill@hotmail.com\n",
      "96         harold.nelson@gmail.com\n",
      "97           nicole.ward@yahoo.com\n",
      "98        theresa.murphy@gmail.com\n",
      "99         tammy.young@comcast.net\n",
      "Name: E Mail, Length: 100, dtype: object\n"
     ]
    }
   ],
   "source": [
    "print(\"\\n E Mail : \\n\\n\",df['E Mail'])"
   ]
  },
  {
   "cell_type": "code",
   "execution_count": 19,
   "id": "23711943-4c30-4e6c-b231-d8bffaf5a9f3",
   "metadata": {},
   "outputs": [
    {
     "name": "stdout",
     "output_type": "stream",
     "text": [
      "\n",
      "PRINTING A SET OF ROWS:\n",
      "\n",
      "     Emp ID Name Prefix First Name Middle Initial Last Name Gender  \\\n",
      "55  253573         Ms.     Sharon              E     Lopez      F   \n",
      "56  904898        Drs.        Ann              Q    Cooper      F   \n",
      "57  515103         Ms.       Anne              A     Perez      F   \n",
      "58  491943        Mrs.      Nancy              P    Howard      F   \n",
      "59  750173         Mr.    Antonio              R   Roberts      M   \n",
      "60  687017         Ms.    Frances              P    Watson      F   \n",
      "\n",
      "                         E Mail    Father's Name   Mother's Name  \\\n",
      "55       sharon.lopez@gmail.com     Daniel Lopez     Susan Lopez   \n",
      "56    ann.cooper@exxonmobil.com    Harold Cooper  Mildred Cooper   \n",
      "57     anne.perez@sbcglobal.net    Douglas Perez     Doris Perez   \n",
      "58       nancy.howard@gmail.com   Gregory Howard  Mildred Howard   \n",
      "59  antonio.roberts@hotmail.com  Timothy Roberts   Diana Roberts   \n",
      "60   frances.watson@outlook.com      Adam Watson    Diana Watson   \n",
      "\n",
      "   Mother's Maiden Name  Salary  \n",
      "55                Hayes  190139  \n",
      "56             Williams  182521  \n",
      "57               Bailey  114426  \n",
      "58               Flores  101553  \n",
      "59            Rodriguez  181646  \n",
      "60                Jones   46945  \n"
     ]
    }
   ],
   "source": [
    "print(\"\\nPRINTING A SET OF ROWS:\\n\\n\",df[55:61])"
   ]
  },
  {
   "cell_type": "code",
   "execution_count": 15,
   "id": "17f12c56-fa24-4498-beb8-7e2141f301c3",
   "metadata": {},
   "outputs": [
    {
     "name": "stdout",
     "output_type": "stream",
     "text": [
      "Particular row:\n",
      "\n",
      " Emp ID                                 408351\n",
      "Name Prefix                              Drs.\n",
      "First Name                              Diane\n",
      "Middle Initial                              I\n",
      "Last Name                               Evans\n",
      "Gender                                      F\n",
      "E Mail                  diane.evans@yahoo.com\n",
      "Father's Name                     Jason Evans\n",
      "Mother's Name                  Michelle Evans\n",
      "Mother's Maiden Name                    Allen\n",
      "Salary                                 180294\n",
      "Name: 3, dtype: object\n"
     ]
    }
   ],
   "source": [
    "print(\"Particular row:\\n\\n\",df.loc[3])"
   ]
  },
  {
   "cell_type": "code",
   "execution_count": 24,
   "id": "64ea6887-b0c1-4b3f-98f8-36142022ed69",
   "metadata": {},
   "outputs": [
    {
     "name": "stdout",
     "output_type": "stream",
     "text": [
      "\n",
      "PRINTING A ROW BY EQUATING A PARTICULAR VALUE:\n",
      "\n",
      "\n",
      "   Emp ID Name Prefix First Name Middle Initial Last Name Gender  \\\n",
      "3  408351        Drs.      Diane              I     Evans      F   \n",
      "\n",
      "                  E Mail Father's Name   Mother's Name Mother's Maiden Name  \\\n",
      "3  diane.evans@yahoo.com   Jason Evans  Michelle Evans                Allen   \n",
      "\n",
      "   Salary  \n",
      "3  180294  \n"
     ]
    }
   ],
   "source": [
    "print(\"\\nPRINTING A ROW BY EQUATING A PARTICULAR VALUE:\\n\\n\")\n",
    "print(df.loc[d['Salary']==180294])"
   ]
  },
  {
   "cell_type": "code",
   "execution_count": 25,
   "id": "04a10232-258d-45f7-89b0-2a29edb9b0bb",
   "metadata": {},
   "outputs": [
    {
     "name": "stdout",
     "output_type": "stream",
     "text": [
      "0     84125.5\n",
      "1     25531.5\n",
      "2     25077.5\n",
      "3     90147.0\n",
      "4     58821.0\n",
      "       ...   \n",
      "95    64887.0\n",
      "96    78097.0\n",
      "97    47836.5\n",
      "98    25507.5\n",
      "99    46825.0\n",
      "Name: Salary, Length: 100, dtype: float64\n"
     ]
    }
   ],
   "source": [
    "a=df['Salary']/2\n",
    "print(a)"
   ]
  },
  {
   "cell_type": "code",
   "execution_count": 27,
   "id": "e583f0d4-9c12-4a15-b7f1-0919c4019c90",
   "metadata": {},
   "outputs": [
    {
     "name": "stdout",
     "output_type": "stream",
     "text": [
      "    Emp ID Name Prefix First Name Middle Initial Last Name Gender  \\\n",
      "33  456747         Mr.        Roy              Z   Griffin      M   \n",
      "\n",
      "                   E Mail     Father's Name  Mother's Name  \\\n",
      "33  roy.griffin@yahoo.com  Benjamin Griffin  Wanda Griffin   \n",
      "\n",
      "   Mother's Maiden Name  Salary  \n",
      "33              Simmons  170895  \n"
     ]
    }
   ],
   "source": [
    "print(df.loc[d['First Name']=='Roy'])"
   ]
  },
  {
   "cell_type": "code",
   "execution_count": 28,
   "id": "d68ee1ab-3f7d-4c09-87e6-3ec69b3d72ab",
   "metadata": {},
   "outputs": [
    {
     "name": "stdout",
     "output_type": "stream",
     "text": [
      "   Emp ID Name Prefix First Name Middle Initial Last Name Gender  \\\n",
      "0  677509        Drs.       Lois              H    Walker      F   \n",
      "1  940761         Ms.     Brenda              S  Robinson      F   \n",
      "2  428945         Dr.        Joe              W  Robinson      M   \n",
      "3  408351        Drs.      Diane              I     Evans      F   \n",
      "4  193819         Mr.   Benjamin              R   Russell      M   \n",
      "\n",
      "                         E Mail     Father's Name       Mother's Name  \\\n",
      "0       lois.walker@hotmail.com     Donald Walker        Helen Walker   \n",
      "1     brenda.robinson@gmail.com  Raymond Robinson       Judy Robinson   \n",
      "2        joe.robinson@gmail.com    Scott Robinson  Stephanie Robinson   \n",
      "3         diane.evans@yahoo.com       Jason Evans      Michelle Evans   \n",
      "4  benjamin.russell@charter.net   Gregory Russell   Elizabeth Russell   \n",
      "\n",
      "  Mother's Maiden Name  Salary  \n",
      "0                Lewis  168251  \n",
      "1                Perry   51063  \n",
      "2               Taylor   50155  \n",
      "3                Allen  180294  \n",
      "4               Nelson  117642  \n"
     ]
    }
   ],
   "source": [
    "print(df.head())"
   ]
  },
  {
   "cell_type": "code",
   "execution_count": null,
   "id": "12ec6cd2-ded5-4fdf-b924-fb94deceb831",
   "metadata": {},
   "outputs": [],
   "source": []
  }
 ],
 "metadata": {
  "kernelspec": {
   "display_name": "Python 3 (ipykernel)",
   "language": "python",
   "name": "python3"
  },
  "language_info": {
   "codemirror_mode": {
    "name": "ipython",
    "version": 3
   },
   "file_extension": ".py",
   "mimetype": "text/x-python",
   "name": "python",
   "nbconvert_exporter": "python",
   "pygments_lexer": "ipython3",
   "version": "3.12.7"
  }
 },
 "nbformat": 4,
 "nbformat_minor": 5
}
